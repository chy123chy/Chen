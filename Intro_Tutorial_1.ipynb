{
 "cells": {
  {
   "cell_type": "markdown",
   "metadata": {},
   "source": [
    "# Intro. to SafeU: Safe learning for Unlabel data\n",
    "\n",
    "In this tutorial, we will introduce how to manipulate data sets, train a model and predict. The tutorial is broken up into 3 parts:\n",
    "1. Data Manipulation\n",
    "2. Traning and Predicting\n",
    "3. Semi-supervised Learning Experiments\n"
   ]
  },
  {
   "cell_type": "markdown",
   "metadata": {},
   "source": [
    "## Part I: Data Manipulation\n",
    "\n",
    "In this notebook, we preprocess several documents using `Snorkel` utilities, parsing them into a simple hierarchy of component parts of our input data, which we refer to as _contexts_. We'll also create _candidates_ out of these contexts, which are the objects we want to classify, in this case, possible mentions of spouses. Finally, we'll load some gold labels for evaluation.\n",
    "\n",
    "All of this preprocessed input data is saved to a database.  (Connection strings can be specified by setting the `SNORKELDB` environment variable.  In Snorkel, if no database is specified, then a SQLite database at `./snorkel.db` is created by default--so no setup is needed here!"
   ]
  },
  {
   "cell_type": "markdown",
   "metadata": {},
   "source": [
    "### Load Data Sets"
   ]
  },
  {
   "cell_type": "markdown",
   "metadata": {},
   "source": [
    "We can use methods in `safeu.datasets.base` to load data."
   ]
  },
  {
   "cell_type": "code",
   "execution_count": 1,
   "metadata": {},
   "outputs": [],
   "source": [
    "from safeu.datasets.base import load_data, load_dataset, load_graph_diff_formats, load_graph\n",
    "\n",
    "# load data from csv files\n",
    "X, y = load_data(feature_file, label_file)\n",
    "\n",
    "# load data from self-contained data set or according to the provided path when the dataset name is empty or does not exist\n",
    "X, y = load_data('isolet', feature_file, label_file)\n",
    "\n",
    "# load graph from csv, mat or npz files.",
    "load_graph_diff_formats(graph_file)\n",
    "\n",
    "# load graph from self-contained data set\n",
    "W = load_graph('covtype')\n",
    "\n",
    "# load graph from user-provided data set\n",
    "W = load_graph('cov', graph_file)\n",
    "W = load_graph('cov')\n"
   ]
  },
  {
   "cell_type": "markdown",
   "metadata": {},
   "source": [
    "### Split Data Sets"
   ]
  },
  {
   "cell_type": "markdown",
   "metadata": {},
   "source": [
    "We can use `data_manipulate` to split a dataset in different ways."
   ]
  },
  {
   "cell_type": "code",
   "execution_count": 1,
   "metadata": {},
   "outputs": [],
   "source": [
    "from safeu.datasets import data_manipulate\n",
    "\n",
    "# inductive split without index\n",
    "train_idx, test_idx, label_idx, unlabel_idx = data_manipulate.inductive_split(X, y, None, test_ratio)\n",
    "\n",
    "# inductive split with index\n",
    "train_idx, test_idx, label_idx, unlabel_idx = data_manipulate.inductive_split(X, y, instance_index, test_ratio)\n",
    "\n",
    "# ratio split without index\n",
    "train_idx, test_idx = data_manipulate.ratio_split(X, y, None, test_ratio)\n",
    "\n",
    "# ratio split with index\n",
    "train_idx, test_idx = data_manipulate.ratio_split(X, y, instance_index, test_ratio)\n",
    "\n",
    "# cv split without index\n",
    "train_idx, test_idx = data_manipulate.cv_split(X, y, None, test_ratio)\n",
    "\n",
    "# cv split with index\n",
    "train_idx, test_idx = data_manipulate.ratio_split(X, y, instance_index, test_ratio)\n",
    "\n",
    "# cv split with proba matrix\n",
    "train_idx, test_idx = data_manipulate.cv_split(X, Ymat, None, test_ratio)\n",
    "\n",
    "# cv split with proba matrix and multi-label\n",
    "train_idx, test_idx = data_manipulate.cv_split(X, Ymul, test_ratio, all_class=False)\n"
   ]
  },
  {
   "cell_type": "markdown",
   "metadata": {},
   "source": [
    "## Part II: Traning and Predicting\n",
    "\n",
    "In this part, we will introduce how to train and predict."
   ]
  },
  {
   "cell_type": "markdown",
   "metadata": {},
   "source": [
    "### Set Model Parameters"
   ]
  },
  {
   "cell_type": "markdown",
   "metadata": {},
   "source": [
    "We can set parameters of a model when create it or use method `set_params`."
   ]
  },
  {
   "cell_type": "code",
   "execution_count": 1,
   "metadata": {},
   "outputs": [],
   "source": [
    "from safeu.classification.CoTraining import CoTraining\n",
    "\n",
    "# set model parameters when creating\n",
    "model = CoTraining(nepo=60, buffer_size = 100)\n",
    "\n",
    "# set model parameters using method",
    "model.set_params({'nepo': 60, 'buffer_size': 100})\n"
   ]
  },
  {
   "cell_type": "markdown",
   "metadata": {},
   "source": [
    "### Train an Inductive Model"
   ]
  },
  {
   "cell_type": "markdown",
   "metadata": {},
   "source": [
    "Use training data including instances, labels and labeled indexes to train a model. Then make predictions given a new set of unlabeled instances."
   ]
  },
  {
   "cell_type": "code",
   "execution_count": 1,
   "metadata": {},
   "outputs": [],
   "source": [
    "from safeu.classification.TSVM import TSVM\n",
    "\n",
    "# train an inductive model\n",
    "model = TSVM(C1 = 100, C2 = 0.1)\n",
    "model.fit(X, y, labeled_idxs)\n",
    "\n",
    "# make predictions given a new set of unlabeled instances\n",
    "model.predict(instances)\n"
   ]
  },
  {
   "cell_type": "markdown",
   "metadata": {},
   "source": [
    "### Train a Transductive Model"
   ]
  },
  {
   "cell_type": "markdown",
   "metadata": {},
   "source": [
    "Use training data including instances, labels and labeled indexes to train a model. Then use unlabeled indexes of training data to give predictions."
   ]
  },
  {
   "cell_type": "code",
   "execution_count": 1,
   "metadata": {},
   "outputs": [],
   "source": [
    "from safeu.model_uncertainty.S4VM import S4VM\n",
    "\n",
    "# train a transductive model\n",
    "model = S4VM(C1 = 100, C2 = 0.1)\n",
    "model.fit(X, y, labeled_idxs)\n",
    "\n",
    "# make predictions given unlabeled indexes\n",
    "model.predict(unlabeled_idxs)\n"
   ]
  },
  {
   "cell_type": "markdown",
   "metadata": {},
   "source": [
    "### Train a Model with Graph"
   ]
  },
  {
   "cell_type": "markdown",
   "metadata": {},
   "source": [
    "Use training data including instances, labels, labeled indexes and graph to train a model. Then make predictions."
   ]
  },
  {
   "cell_type": "code",
   "execution_count": 1,
   "metadata": {},
   "outputs": [],
   "source": [
    "from safeu.data_quality.LEAD import LEAD\n",
    "\n",
    "# train a model with graph\n",
    "model = LEAD(C1 = 1.0, C2 = 0.01)\n",
    "model.fit(X, y, labeled_idxs, W)\n",
    "\n",
    "# make predictions\n",
    "model.predict(unlabeled_idxs)\n"
   ]
  }
 },
 "nbformat": 4,
 "nbformat_minor": 1
}
